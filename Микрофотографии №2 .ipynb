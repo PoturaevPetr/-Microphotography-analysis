{
 "cells": [
  {
   "cell_type": "code",
   "execution_count": null,
   "metadata": {},
   "outputs": [],
   "source": [
    "#для анализа микрофотографий изначально планировалось использовать структуру однослойного переспетрона\n",
    "#Планировалось что данный пересептрон мог бы делать некоторые выводы о шероховатости поверхности материала\n",
    "#В перспективе могли бы произовдится рассчеты числа зерен сплава, на единицу площади поверхности \n",
    "import numpy as np \n",
    "import os\n",
    "import matplotlib.pyplot as plt \n",
    "name = os.listdir(r'C:\\Users\\User\\Микрофотографии')\n",
    "name_tif = filter(lambda x: x.endswith('.tif'), name)\n",
    "D = []\n",
    "Y = []#проблема заключается в том, что не ясно каким образом следует задавать обучающий вектор (истинные значения)\n",
    "for i in name_tif:\n",
    "    imag = plt.imread(i)\n",
    "    imag = np.dot(imag[...,:3],[1,1,1])\n",
    "    for i in imag:\n",
    "        for j in range(len(i)):\n",
    "            if i[j] < 400:\n",
    "                i[j] = 1\n",
    "    D.append(imag.flatten())\n",
    "w = np.zeros((np.array(D).shape[0], np.array(D).shape[1]))\n"
   ]
  },
  {
   "cell_type": "code",
   "execution_count": null,
   "metadata": {
    "scrolled": true
   },
   "outputs": [],
   "source": [
    "α = 0.2\n",
    "β = -0.4\n",
    "σ = lambda x: 1 if x > 0 else 0\n",
    " \n",
    "def f(x):\n",
    "    s = β + np.sum(x * w)\n",
    "    return σ(s)\n",
    " \n",
    "def train():\n",
    "    global w\n",
    "    _w = w.copy()\n",
    "    for x, y in zip(D, Y):\n",
    "        i = np.where(x > 0)\n",
    "        print(i)\n",
    "        w[i] += α * (y - f(x)) * x\n",
    "            \n",
    "    return (w != _w).any()           \n",
    "while train():\n",
    "    print(w)"
   ]
  }
 ],
 "metadata": {
  "kernelspec": {
   "display_name": "Python 3",
   "language": "python",
   "name": "python3"
  },
  "language_info": {
   "codemirror_mode": {
    "name": "ipython",
    "version": 3
   },
   "file_extension": ".py",
   "mimetype": "text/x-python",
   "name": "python",
   "nbconvert_exporter": "python",
   "pygments_lexer": "ipython3",
   "version": "3.7.6"
  }
 },
 "nbformat": 4,
 "nbformat_minor": 4
}
